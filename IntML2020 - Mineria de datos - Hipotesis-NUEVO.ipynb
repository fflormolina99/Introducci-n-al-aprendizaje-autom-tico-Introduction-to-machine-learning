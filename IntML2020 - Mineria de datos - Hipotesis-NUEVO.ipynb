{
 "cells": [
  {
   "cell_type": "markdown",
   "metadata": {},
   "source": [
    "<center>\n",
    "<img src=\"images/ods_stickers.jpg\" />\n",
    "    \n",
    "# Introducción al Machine Learning 2020\n",
    "\n",
    "Basado en material de  [Yury Kashnitsky](https://yorko.github.io). Traducido y editado al español por [Ana Georgina Flesia](https://www.linkedin.com/in/georginaflesia/). Este material esta sujeto a los términos y condiciones de la licencia  [Creative Commons CC BY-NC-SA 4.0](https://creativecommons.org/licenses/by-nc-sa/4.0/). Se permite el uso irrestricto para todo propósito no comercial."
   ]
  },
  {
   "cell_type": "markdown",
   "metadata": {},
   "source": [
    "##  Minería de datos- Hipótesis"
   ]
  },
  {
   "cell_type": "code",
   "execution_count": 1,
   "metadata": {},
   "outputs": [],
   "source": [
    "from IPython.display import Image"
   ]
  },
  {
   "cell_type": "markdown",
   "metadata": {},
   "source": [
    "### Ejercicio 1- En un consultorio oftalmológico la secretaria entrega a cada paciente la siguiente ficha, antes ser atendido, para que sea completada por el profesional:\n",
    "\n"
   ]
  },
  {
   "cell_type": "markdown",
   "metadata": {},
   "source": [
    "________________________________________\n",
    "\n",
    "    Paciente      (Nombre y Apellido)\n",
    "\n",
    "    Edad          (años)\n",
    "    \n",
    "    Prescripción  (miopía-hipermetropía)\n",
    "    \n",
    "    Astigmatismo  (si/no)\n",
    "    \n",
    "    Lagrimeo      (normal/reducido)\n",
    "    \n",
    "________________________________________\n",
    "\n",
    "\n",
    "En cada turno de trabajo se atienden seis pacientes y a continuacion se presentan las fichas completadas por el oculista adecuadamente anonimizadas \n"
   ]
  },
  {
   "cell_type": "raw",
   "metadata": {},
   "source": [
    "    Primer turno\n",
    "    --------------------------------------------------------------------------------------------------------------\n",
    "    paciente     | 01       | 02     | 03            | 04     | 05            | 06     |\n",
    "    --------------------------------------------------------------------------------------------------------------\n",
    "    edad         | 22       | 71     | 41            | 32     | 68            | 72     |\n",
    "    prescripción | miopía   | miopía | hipermetropía | miopía | hipermetropía | miopía |\n",
    "    astigmatismo | no       | sí     | no            | sí     | sí            | no     |\n",
    "    lagrimeo     | reducido | normal | reducido      | normal | reducido      | normal |\n",
    "\n",
    "    --------------------------------------------------------------------------------------------------------------\n",
    "\n",
    "\n",
    "    Segundo Turno\n",
    "    --------------------------------------------------------------------------------------------------------------\n",
    "    paciente     | 07            | 08       | 09       | 10     | 11            | 12     |\n",
    "    --------------------------------------------------------------------------------------------------------------\n",
    "    edad         | 62            | 42       | 38       | 43     | 28            | 37     |\n",
    "    prescripción | hipermetropía | miopía   | miopía   | miopía | hipermetropía | miopía |\n",
    "    astigmatismo | sí            | sí       | no       | no     | sí            | sí     |\n",
    "    lagrimeo     | normal        | reducido | reducido | normal | normal        | normal |\n",
    "\n",
    "    --------------------------------------------------------------------------------------------------------------\n",
    "\n",
    "\n",
    "    Tercer turno\n",
    "    --------------------------------------------------------------------------------------------------------------\n",
    "    paciente     | 13            | 14            | 15            | 16       | 17       | 18            |\n",
    "    --------------------------------------------------------------------------------------------------------------\n",
    "    edad         | 45            | 37            | 68            | 18       | 51       | 15            |\n",
    "    prescripción | hipermetropía | hipermetropía | hipermetropía | miopía   | miopía   | hipermetropía |\n",
    "    astigmatismo | sí            | no            | no            | sí       | no       | no            |\n",
    "    lagrimeo     | normal        | normal        | normal        | reducido | reducido | normal        |\n",
    "\n",
    "    --------------------------------------------------------------------------------------------------------------\n",
    "\n",
    "\n",
    "    Cuarto turno\n",
    "    --------------------------------------------------------------------------------------------------------------\n",
    "    paciente     | 19       & 20     & 21            & 22            & 23            & 24            \n",
    "    --------------------------------------------------------------------------------------------------------------\n",
    "    edad         | 63       | 30     | 74            | 44            | 15            | 17            |\n",
    "    prescripción | miopía   | miopía | hipermetropía | hipermetropía | hipermetropía | hipermetropía |\n",
    "    astigmatismo | sí       | no     | no            | sí            | no            | sí            |\n",
    "    lagrimeo     | reducido | normal | reducido      | reducido      | reducido      | reducido      |\n",
    "\n"
   ]
  },
  {
   "cell_type": "markdown",
   "metadata": {},
   "source": [
    "Una vez completada la ficha, los pacientes se dirigen luego al consultorio del oftalmólogo para que\n",
    "les recomienden o no el uso de lentes de contacto. Al final del dia el resumen de recomendaciones\n",
    "se recopila en la siguiente tabla:"
   ]
  },
  {
   "cell_type": "raw",
   "metadata": {},
   "source": [
    "\n",
    "    paciente | recomendación | paciente | recomendación |paciente | recomendación |\n",
    "    -------------------------------------------------------------------------------\n",
    "    \n",
    "    01       | nada          |  09      | nada          | 17      | nada          |\n",
    "    02       | duras         |  10      | blandas       | 18      | blandas       |\n",
    "    03       | nada          |  11      | nada          | 19      | nada          |\n",
    "    04       | duras         |  12      | duras         | 20      | blandas       |\n",
    "    05       | nada          |  13      | nada          | 21      | nada          |\n",
    "    06       | blandas       |  14      | blandas       | 22      | nada          |\n",
    "    07       | nada          |  15      | blandas       | 23      | nada          |\n",
    "    08       | nada          |  16      | nada          | 24      | nada          |\n",
    "\n"
   ]
  },
  {
   "cell_type": "raw",
   "metadata": {},
   "source": [
    "\n",
    "    --------------------------------------------------------------------------------------------------------------\n",
    "    paciente     | 01       | 02     | 03            | 04     | 05            | 06     |\n",
    "    --------------------------------------------------------------------------------------------------------------\n",
    "    edad         | 22       | 71     | 41            | 32     | 68            | 72     |\n",
    "    prescripción | miopía   | miopía | hipermetropía | miopía | hipermetropía | miopía |\n",
    "    astigmatismo | no       | sí     | no            | sí     | sí            | no     |\n",
    "    lagrimeo     | reducido | normal | reducido      | normal | reducido      | normal |\n",
    "    recomendación| nada     | duras  | nada          | duras  | nada          | blandas|\n",
    "    --------------------------------------------------------------------------------------------------------------\n",
    "    --------------------------------------------------------------------------------------------------------------\n",
    "    paciente     | 07            | 08       | 09       | 10     | 11            | 12     |\n",
    "    --------------------------------------------------------------------------------------------------------------\n",
    "    edad         | 62            | 42       | 38       | 43     | 28            | 37     |\n",
    "    prescripción | hipermetropía | miopía   | miopía   | miopía | hipermetropía | miopía |\n",
    "    astigmatismo | sí            | sí       | no       | no     | sí            | sí     |\n",
    "    lagrimeo     | normal        | reducido | reducido | normal | normal        | normal |\n",
    "    recomendación| nada          | nada     | nada     | blandas| nada          | duras  |\n",
    "    --------------------------------------------------------------------------------------------------------------\n",
    "    --------------------------------------------------------------------------------------------------------------\n",
    "    paciente     | 13            | 14            | 15            | 16       | 17       | 18            |\n",
    "    --------------------------------------------------------------------------------------------------------------\n",
    "    edad         | 45            | 37            | 68            | 18       | 51       | 15            |\n",
    "    prescripción | hipermetropía | hipermetropía | hipermetropía | miopía   | miopía   | hipermetropía |\n",
    "    astigmatismo | sí            | no            | no            | sí       | no       | no            |\n",
    "    lagrimeo     | normal        | normal        | normal        | reducido | reducido | normal        |\n",
    "    recomendación| nada          | blandas       | blandas       | nada     | nada     | blandas       |\n",
    "    --------------------------------------------------------------------------------------------------------------\n",
    "    --------------------------------------------------------------------------------------------------------------\n",
    "    paciente     | 19       & 20     & 21            & 22            & 23            & 24            \n",
    "    --------------------------------------------------------------------------------------------------------------\n",
    "    edad         | 63       | 30     | 74            | 44            | 15            | 17            |\n",
    "    prescripción | miopía   | miopía | hipermetropía | hipermetropía | hipermetropía | hipermetropía |\n",
    "    astigmatismo | sí       | no     | no            | sí            | no            | sí            |\n",
    "    lagrimeo     | reducido | normal | reducido      | reducido      | reducido      | reducido      |\n",
    "    recomendación| nada     | blandas| nada          | nada          | nada          | nada          |\n"
   ]
  },
  {
   "cell_type": "raw",
   "metadata": {},
   "source": [
    "    edad   | prescripcion  | astigmatismo | lagrimeo  | recomendación\n",
    "    -------------------------------------------------------------------------\n",
    "     22    | miopia        | no           | reducido  | nada \n",
    "     71    | miopia        | si           | normal    | duras   \n",
    "     41    | hipermetropia | no           | reducido  | nada \n",
    "     32    | miopia        | si           | normal    | duras \n",
    "     68    | hipermetropia | si           | reducido  | nada \n",
    "     72    | miopia        | no           | normal    | blandas \n",
    "     62    | hipermetropia | si           | normal    | nada \n",
    "     42    | miopia        | si           | reducido  | nada \n",
    "     38    | miopia        | no           | reducido  | nada \n",
    "     43    | miopia        | no           | normal    | blandas \n",
    "     28    | hipermetropia | si           | normal    | nada \n",
    "     37    | miopia        | si           | normal    | duras \n",
    "     45    | hipermetropia | si           | normal    | nada\n",
    "     37    | hipermetropia | no           | normal    | blandas \n",
    "     68    | hipermetropia | no           | normal    | blandas\n",
    "     18    | miopia        | si           | reducido  | nada \n",
    "     51    | miopia        | no           | reducido  | nada \n",
    "     15    | hipermetropia | no           | normal    | blandas \n",
    "     63    | miopia        | si           | reducido  | nada \n",
    "     30    | miopia        | no           | normal    | blandas \n",
    "     74    | hipermetropia | no           | reducido  | nada \n",
    "     44    | hipermetropia | si           | reducido  | nada \n",
    "     15    | hipermetropia | no           | reducido  | nada \n",
    "     17    | hipermetropia | si           | reducido  | nada "
   ]
  },
  {
   "cell_type": "markdown",
   "metadata": {},
   "source": [
    "### A): Elaborar una pregunta adecuada sobre los datos para formular un problema de aprendizaje automatico basado en la recomendacion del contactologo.\n"
   ]
  },
  {
   "cell_type": "markdown",
   "metadata": {},
   "source": [
    "¿Que características debe tener un paciente para que le sean recetadas lentes de contacto, y en caso que le sean recetadas que caracteristicas debe cumplir para que le receten lentes blandas o duras?\n"
   ]
  },
  {
   "cell_type": "markdown",
   "metadata": {},
   "source": [
    "### B): Señalar los problemas que tienen las tablas recolectadas en el consultorio para abordar el problema de aprendizaje supervisado.\n"
   ]
  },
  {
   "cell_type": "markdown",
   "metadata": {},
   "source": [
    "Escriba su respuesta aquí"
   ]
  },
  {
   "cell_type": "markdown",
   "metadata": {},
   "source": [
    "### C): A partir de la informacion disponible, elaborar un esquema apropiado para disponer los datos en una tabla util para mineria. Identificar las caracteristicas (variables) y su tipo de datos y declarar cual es la clase y sus valores para el problema de clasificacion.\n"
   ]
  },
  {
   "cell_type": "markdown",
   "metadata": {},
   "source": [
    "Las características o variables son \n",
    "1. Edad: variable cuantitativa ordinal categórica\n",
    "1. Prescripción: miopía/hipermetropía, variable cualitativa nominal binaria\n",
    "2. Astigmatismo: si/no, variable cualitativa nominal binaria\n",
    "3. Lagrimeo: reducido/normal, variable cualitativa nominal binaria\n",
    "\n",
    "Las clases posibles son \n",
    "1. No usar lentes de contacto: nada\n",
    "2. Usar lentes de contacto: blandas o duras"
   ]
  },
  {
   "cell_type": "markdown",
   "metadata": {},
   "source": [
    "### D): Calcular el numero total de instancias posibles, suponiendo que la posible edad de un paciente esta en el intervalo que incluye los valores 10 y 100.\n"
   ]
  },
  {
   "cell_type": "markdown",
   "metadata": {},
   "source": [
    "Tenemos 3 variables con dos valores posibles cada una (prescripción, astigmatismo, lagrimeo), y una variable con 90 valores posibles (edad, entre 10 y 100 años). Esto da un total de $2^3*90=720$ instancias"
   ]
  },
  {
   "cell_type": "markdown",
   "metadata": {},
   "source": [
    "### E): Construir la tabla de mineria con los ejemplos dados a partir del esquema formulado, dejando la clase en la ultima columna.\n"
   ]
  },
  {
   "cell_type": "raw",
   "metadata": {},
   "source": [
    "    edad   | prescripcion  | astigmatismo | lagrimeo  | recomendación\n",
    "    -------------------------------------------------------------------------\n",
    "     22    | miopia        | no           | reducido  | nada \n",
    "     71    | miopia        | si           | normal    | duras   \n",
    "     41    | hipermetropia | no           | reducido  | nada \n",
    "     32    | miopia        | si           | normal    | duras \n",
    "     68    | hipermetropia | si           | reducido  | nada \n",
    "     72    | miopia        | no           | normal    | blandas \n",
    "     62    | hipermetropia | si           | normal    | nada \n",
    "     42    | miopia        | si           | reducido  | nada \n",
    "     38    | miopia        | no           | reducido  | nada \n",
    "     43    | miopia        | no           | normal    | blandas \n",
    "     28    | hipermetropia | si           | normal    | nada \n",
    "     37    | miopia        | si           | normal    | duras \n",
    "     45    | hipermetropia | si           | normal    | nada\n",
    "     37    | hipermetropia | no           | normal    | blandas \n",
    "     68    | hipermetropia | no           | normal    | blandas\n",
    "     18    | miopia        | si           | reducido  | nada \n",
    "     51    | miopia        | no           | reducido  | nada \n",
    "     15    | hipermetropia | no           | normal    | blandas \n",
    "     63    | miopia        | si           | reducido  | nada \n",
    "     30    | miopia        | no           | normal    | blandas \n",
    "     74    | hipermetropia | no           | reducido  | nada \n",
    "     44    | hipermetropia | si           | reducido  | nada \n",
    "     15    | hipermetropia | no           | reducido  | nada \n",
    "     17    | hipermetropia | si           | reducido  | nada "
   ]
  },
  {
   "cell_type": "markdown",
   "metadata": {},
   "source": [
    "### F): Determinar a partir de los datos si las siguientes hipotesis son verdaderas o falsas:\n",
    "    Si el lagrimeo es reducido entonces la recomendacion es nada (es decir, no usar lentes de contacto).\n",
    "    Si la prescripcion es hipermetropia, no tiene astigmatismo y el lagrimeo es normal entonces la recomendacion es lentes duras.\n"
   ]
  },
  {
   "cell_type": "markdown",
   "metadata": {},
   "source": [
    "Probemos primero la primera hipótesis. Eliminamos los pacientes que tienen lagrimeo normal y veamos la recomendacón del medico para los casos restantes con lagrimeo reducido. "
   ]
  },
  {
   "cell_type": "raw",
   "metadata": {},
   "source": [
    "    edad   | prescripcion  | astigmatismo | lagrimeo  | recomendación\n",
    "    -------------------------------------------------------------------------\n",
    "     22    | miopia        | no           | reducido  | nada \n",
    "     41    | hipermetropia | no           | reducido  | nada  \n",
    "     68    | hipermetropia | si           | reducido  | nada \n",
    "     42    | miopia        | si           | reducido  | nada \n",
    "     38    | miopia        | no           | reducido  | nada\n",
    "     18    | miopia        | si           | reducido  | nada \n",
    "     51    | miopia        | no           | reducido  | nada \n",
    "     63    | miopia        | si           | reducido  | nada  \n",
    "     74    | hipermetropia | no           | reducido  | nada \n",
    "     44    | hipermetropia | si           | reducido  | nada \n",
    "     15    | hipermetropia | no           | reducido  | nada \n",
    "     17    | hipermetropia | si           | reducido  | nada "
   ]
  },
  {
   "cell_type": "markdown",
   "metadata": {},
   "source": [
    "Veamos que sin importar la edad, la prescripción o si el paciente tiene o no astigmatismo, siempre que lagrimeo sea reducido la recomendación es no usar lentes de contacto. Por lo tanto, en base a los datos, la hipótesis es correcta.\n",
    "\n",
    "Ahora para la segunda hipótesis, dejaremos solo los datos que cumplen las características que pide la hipótesis y veremos cual es la recomendación para cada uno. "
   ]
  },
  {
   "cell_type": "raw",
   "metadata": {},
   "source": [
    "    edad   | prescripcion  | astigmatismo | lagrimeo  | recomendación\n",
    "    ------------------------------------------------------------------------- \n",
    "     37    | hipermetropia | no           | normal    | blandas \n",
    "     68    | hipermetropia | no           | normal    | blandas\n",
    "     15    | hipermetropia | no           | normal    | blandas "
   ]
  },
  {
   "cell_type": "markdown",
   "metadata": {},
   "source": [
    "Vemos que la hipótesis es falsa: para todos los datos que cumplen con las características que pide la hipótesis, la recomendación es lentes blandas."
   ]
  },
  {
   "cell_type": "markdown",
   "metadata": {},
   "source": [
    "### G): Elaborar las hipotesis especificas maximales en el aprendizaje de los conceptos: prescripcion de lentes duras y prescripcion de lentes blandas. Ayuda: Reconocer previamente las variables irrelevantes para ambos problemas.\n"
   ]
  },
  {
   "cell_type": "markdown",
   "metadata": {},
   "source": [
    "Notemos primero que la edad no juega ningun papel en las recomendaciones, asi que esta variable podriamos decir que es irrelevante. Tambien notemos que para que la recomendación sea algun tipo de lente, la variable 'lagrimeo' debe tomar el valor 'normal' asi que hago primero una tabla con solo esos valores en esta variable. \n"
   ]
  },
  {
   "cell_type": "raw",
   "metadata": {},
   "source": [
    "    edad   | prescripcion  | astigmatismo | lagrimeo  | recomendación\n",
    "    -------------------------------------------------------------------------\n",
    "     71    | miopia        | si           | normal    | duras   \n",
    "     32    | miopia        | si           | normal    | duras \n",
    "     72    | miopia        | no           | normal    | blandas \n",
    "     62    | hipermetropia | si           | normal    | nada \n",
    "     43    | miopia        | no           | normal    | blandas \n",
    "     28    | hipermetropia | si           | normal    | nada \n",
    "     37    | miopia        | si           | normal    | duras \n",
    "     45    | hipermetropia | si           | normal    | nada\n",
    "     37    | hipermetropia | no           | normal    | blandas \n",
    "     68    | hipermetropia | no           | normal    | blandas\n",
    "     15    | hipermetropia | no           | normal    | blandas \n",
    "     30    | miopia        | no           | normal    | blandas "
   ]
  },
  {
   "cell_type": "markdown",
   "metadata": {},
   "source": [
    "Ahora las variables que nos importan son 'prescripción' y 'astigmatismo'. Los valores posibles son:\n",
    "    1. (miopía, si)\n",
    "    2. (miopía, no)\n",
    "    3. (hipermetropía, si)\n",
    "    4. (hipermetropía, no)\n",
    "    \n",
    "Notemos que siempre que el paciente tenga hipermetropía y astigmatismo, la recomendacion sera no usar lentes. Si tiene hipermetropía y no tiene asitgmatismo, la recomendación sera usar lentes blandas. \n",
    "\n"
   ]
  },
  {
   "cell_type": "raw",
   "metadata": {},
   "source": [
    "    edad   | prescripcion  | astigmatismo | lagrimeo  | recomendación\n",
    "    ------------------------------------------------------------------------ \n",
    "     62    | hipermetropia | si           | normal    | nada  \n",
    "     28    | hipermetropia | si           | normal    | nada \n",
    "     45    | hipermetropia | si           | normal    | nada"
   ]
  },
  {
   "cell_type": "raw",
   "metadata": {},
   "source": [
    "    edad   | prescripcion  | astigmatismo | lagrimeo  | recomendación\n",
    "    ------------------------------------------------------------------------- \n",
    "     37    | hipermetropia | no           | normal    | blandas \n",
    "     68    | hipermetropia | no           | normal    | blandas\n",
    "     15    | hipermetropia | no           | normal    | blandas "
   ]
  },
  {
   "cell_type": "markdown",
   "metadata": {},
   "source": [
    "Si el paciente tiene miopía y astigmatismo, la recomendación sera usar lentes duras; mientras que si tiene miopía pero no astigmatismo, la recomendación sera usar lentes blandas. "
   ]
  },
  {
   "cell_type": "raw",
   "metadata": {},
   "source": [
    "    edad   | prescripcion  | astigmatismo | lagrimeo  | recomendación\n",
    "    -------------------------------------------------------------------------\n",
    "     71    | miopia        | si           | normal    | duras   \n",
    "     32    | miopia        | si           | normal    | duras \n",
    "     37    | miopia        | si           | normal    | duras "
   ]
  },
  {
   "cell_type": "raw",
   "metadata": {},
   "source": [
    "    edad   | prescripcion  | astigmatismo | lagrimeo  | recomendación\n",
    "    -------------------------------------------------------------------------\n",
    "     72    | miopia        | no           | normal    | blandas \n",
    "     43    | miopia        | no           | normal    | blandas  \n",
    "     30    | miopia        | no           | normal    | blandas "
   ]
  },
  {
   "cell_type": "markdown",
   "metadata": {},
   "source": [
    "Las hipótesis maximales para usar lentes blandas o duras quedan asi:\n",
    "\n",
    "Lentes blandas = {edad=?, prescripción=?, astigmatismo=no, lagrimeo=normal}\n",
    "\n",
    "Lentes duras = {edad=?, prescripción=miopía, astigmatismo=si, lagrimeo=normal}"
   ]
  },
  {
   "cell_type": "markdown",
   "metadata": {},
   "source": [
    "### H): Utilizando las hipotesis especıficas elaboradas, construir un arbol de decision utilizando en cada nodo la sentencia if sobre los valores una caracterıstica para reproducir el criterio de clasificacion empleado en el consultorio oftalmologico. \n",
    "Ayuda: Las decisiones en cada nodo sobre los valores de las caracteristicas son todas binarias y no se repiten caracteristicas una vez usadas. La construccion de este arbol determina una jerarquia de las caracteristicas en cuanto su importancia en la determinacion de la clase."
   ]
  },
  {
   "cell_type": "raw",
   "metadata": {},
   "source": [
    "Lagrimeo ----- Reducido ---- NADA\n",
    "         |\n",
    "         |---- Normal -----Astigmatismo ----- No ------ BLANDAS \n",
    "                                        |\n",
    "                                        |---- Si ----- Prescripción ----- Miopía ------------ DURAS\n",
    "                                                                    |\n",
    "                                                                    |---- Hipermetropía ----- NADA "
   ]
  },
  {
   "cell_type": "markdown",
   "metadata": {},
   "source": [
    "### Ejercicio 2: Se desea inferir el método de elección de libros de lectura. Para ello se estudian los siguientes variables"
   ]
  },
  {
   "cell_type": "raw",
   "metadata": {},
   "source": [
    "\n",
    "________________________________________\n",
    "\n",
    "    Libro      (número de identificación)\n",
    "\n",
    "    Acción     (leer-no leer)\n",
    "    \n",
    "    Autor        (conocido-desconocido)\n",
    "    \n",
    "    Trama       (nueva-vieja)\n",
    "    \n",
    "    Longitud    (largo-corto)\n",
    "    \n",
    "    Sitio        (casa-trabajo)\n",
    "    \n",
    "_______________________________________\n"
   ]
  },
  {
   "cell_type": "markdown",
   "metadata": {},
   "source": [
    "Y se recolectan los siguientes datos."
   ]
  },
  {
   "cell_type": "raw",
   "metadata": {},
   "source": [
    "\n",
    "     |  Ejemplo | Accion  | Autor       | Trama | Longitud | Sitio  | \n",
    "    -----------------------------------------------------------------\n",
    "     |e1        |saltar   |conocido     |nuevo  |largo     |casa    |\n",
    "     |e2        |leer     |desconocido  |nuevo  |corto     |trabajo |\n",
    "     |e3        |saltar   |desconocido  |viejo  |largo     |trabajo |\n",
    "     |e4        |saltar   |conocido     |viejo  |largo     |casa    |\n",
    "     |e5        |leer     |conocido     |nuevo  |corto     |casa    |\n",
    "     |e6        |saltar   |conocido     |viejo  |largo     |trabajo |\n",
    "     |e7        |saltar   |desconocido  |viejo  |corto     |trabajo |\n",
    "     |e8        |leer     |desconocido  |nuevo  |corto     |trabajo |\n",
    "     |e9        |saltar   |conocido     |viejo  |largo     |casa    |\n",
    "     |e10       |saltar   |conocido     |nuevo  |largo     |trabajo |\n",
    "     |e11       |saltar   |desconocido  |viejo  |corto     |casa    |\n",
    "     |e12       |saltar   |conocido     |nuevo  |largo     |trabajo |\n",
    "     |e13       |leer     |conocido     |viejo  |corto     |casa    |\n",
    "     |e14       |leer     |conocido     |nuevo  |corto     |trabajo |\n",
    "     |e15       |leer     |conocido     |nuevo  |corto     |casa    |\n",
    "     |e16       |leer     |conocido     |viejo  |corto     |trabajo |\n",
    "     |e17       |leer     |conocido     |nuevo  |corto     |casa    |\n",
    "     |e18       |leer     |desconocido  |nuevo  |corto     |trabajo |"
   ]
  },
  {
   "cell_type": "markdown",
   "metadata": {},
   "source": [
    "### A): A partir de la informacion disponible, elabore un dataframe adecuado para minería. Identifique las caracteristicas (variables) y su tipo de datos y declare cual es la clase y sus valores para el problema de clasificacion."
   ]
  },
  {
   "cell_type": "code",
   "execution_count": 2,
   "metadata": {},
   "outputs": [],
   "source": [
    "import pandas as pd"
   ]
  },
  {
   "cell_type": "code",
   "execution_count": 3,
   "metadata": {},
   "outputs": [
    {
     "data": {
      "text/html": [
       "<div>\n",
       "<style scoped>\n",
       "    .dataframe tbody tr th:only-of-type {\n",
       "        vertical-align: middle;\n",
       "    }\n",
       "\n",
       "    .dataframe tbody tr th {\n",
       "        vertical-align: top;\n",
       "    }\n",
       "\n",
       "    .dataframe thead th {\n",
       "        text-align: right;\n",
       "    }\n",
       "</style>\n",
       "<table border=\"1\" class=\"dataframe\">\n",
       "  <thead>\n",
       "    <tr style=\"text-align: right;\">\n",
       "      <th></th>\n",
       "      <th>Acción</th>\n",
       "      <th>Autor</th>\n",
       "      <th>Trama</th>\n",
       "      <th>Longitud</th>\n",
       "      <th>Sitio</th>\n",
       "    </tr>\n",
       "  </thead>\n",
       "  <tbody>\n",
       "    <tr>\n",
       "      <th>0</th>\n",
       "      <td>Saltar</td>\n",
       "      <td>Conocido</td>\n",
       "      <td>Nuevo</td>\n",
       "      <td>Largo</td>\n",
       "      <td>Casa</td>\n",
       "    </tr>\n",
       "    <tr>\n",
       "      <th>1</th>\n",
       "      <td>Leer</td>\n",
       "      <td>Desconocido</td>\n",
       "      <td>Nuevo</td>\n",
       "      <td>Corto</td>\n",
       "      <td>Trabajo</td>\n",
       "    </tr>\n",
       "    <tr>\n",
       "      <th>2</th>\n",
       "      <td>Saltar</td>\n",
       "      <td>Desconocido</td>\n",
       "      <td>Viejo</td>\n",
       "      <td>Largo</td>\n",
       "      <td>Trabajo</td>\n",
       "    </tr>\n",
       "    <tr>\n",
       "      <th>3</th>\n",
       "      <td>Saltar</td>\n",
       "      <td>Conocido</td>\n",
       "      <td>Viejo</td>\n",
       "      <td>Largo</td>\n",
       "      <td>Casa</td>\n",
       "    </tr>\n",
       "    <tr>\n",
       "      <th>4</th>\n",
       "      <td>Leer</td>\n",
       "      <td>Conocido</td>\n",
       "      <td>Nuevo</td>\n",
       "      <td>Corto</td>\n",
       "      <td>Casa</td>\n",
       "    </tr>\n",
       "    <tr>\n",
       "      <th>5</th>\n",
       "      <td>Saltar</td>\n",
       "      <td>Conocido</td>\n",
       "      <td>Viejo</td>\n",
       "      <td>Largo</td>\n",
       "      <td>Trabajo</td>\n",
       "    </tr>\n",
       "    <tr>\n",
       "      <th>6</th>\n",
       "      <td>Saltar</td>\n",
       "      <td>Desconocido</td>\n",
       "      <td>Viejo</td>\n",
       "      <td>Corto</td>\n",
       "      <td>Trabajo</td>\n",
       "    </tr>\n",
       "    <tr>\n",
       "      <th>7</th>\n",
       "      <td>Leer</td>\n",
       "      <td>Desconocido</td>\n",
       "      <td>Nuevo</td>\n",
       "      <td>Corto</td>\n",
       "      <td>Trabajo</td>\n",
       "    </tr>\n",
       "    <tr>\n",
       "      <th>8</th>\n",
       "      <td>Saltar</td>\n",
       "      <td>Conocido</td>\n",
       "      <td>Viejo</td>\n",
       "      <td>Largo</td>\n",
       "      <td>Casa</td>\n",
       "    </tr>\n",
       "    <tr>\n",
       "      <th>9</th>\n",
       "      <td>Saltar</td>\n",
       "      <td>Conocido</td>\n",
       "      <td>Nuevo</td>\n",
       "      <td>Largo</td>\n",
       "      <td>Trabajo</td>\n",
       "    </tr>\n",
       "    <tr>\n",
       "      <th>10</th>\n",
       "      <td>Saltar</td>\n",
       "      <td>Desconocido</td>\n",
       "      <td>Viejo</td>\n",
       "      <td>Corto</td>\n",
       "      <td>Casa</td>\n",
       "    </tr>\n",
       "    <tr>\n",
       "      <th>11</th>\n",
       "      <td>Saltar</td>\n",
       "      <td>Conocido</td>\n",
       "      <td>Nuevo</td>\n",
       "      <td>Largo</td>\n",
       "      <td>Trabajo</td>\n",
       "    </tr>\n",
       "    <tr>\n",
       "      <th>12</th>\n",
       "      <td>Leer</td>\n",
       "      <td>Conocido</td>\n",
       "      <td>Viejo</td>\n",
       "      <td>Corto</td>\n",
       "      <td>Casa</td>\n",
       "    </tr>\n",
       "    <tr>\n",
       "      <th>13</th>\n",
       "      <td>Leer</td>\n",
       "      <td>Conocido</td>\n",
       "      <td>Nuevo</td>\n",
       "      <td>Corto</td>\n",
       "      <td>Trabajo</td>\n",
       "    </tr>\n",
       "    <tr>\n",
       "      <th>14</th>\n",
       "      <td>Leer</td>\n",
       "      <td>Conocido</td>\n",
       "      <td>Nuevo</td>\n",
       "      <td>Corto</td>\n",
       "      <td>Casa</td>\n",
       "    </tr>\n",
       "    <tr>\n",
       "      <th>15</th>\n",
       "      <td>Leer</td>\n",
       "      <td>Conocido</td>\n",
       "      <td>Viejo</td>\n",
       "      <td>Corto</td>\n",
       "      <td>Trabajo</td>\n",
       "    </tr>\n",
       "    <tr>\n",
       "      <th>16</th>\n",
       "      <td>Leer</td>\n",
       "      <td>Conocido</td>\n",
       "      <td>Nuevo</td>\n",
       "      <td>Corto</td>\n",
       "      <td>Casa</td>\n",
       "    </tr>\n",
       "    <tr>\n",
       "      <th>17</th>\n",
       "      <td>Leer</td>\n",
       "      <td>Desconocido</td>\n",
       "      <td>Nuevo</td>\n",
       "      <td>Corto</td>\n",
       "      <td>Trabajo</td>\n",
       "    </tr>\n",
       "  </tbody>\n",
       "</table>\n",
       "</div>"
      ],
      "text/plain": [
       "    Acción        Autor  Trama Longitud    Sitio\n",
       "0   Saltar     Conocido  Nuevo    Largo     Casa\n",
       "1     Leer  Desconocido  Nuevo    Corto  Trabajo\n",
       "2   Saltar  Desconocido  Viejo    Largo  Trabajo\n",
       "3   Saltar     Conocido  Viejo    Largo     Casa\n",
       "4     Leer     Conocido  Nuevo    Corto     Casa\n",
       "5   Saltar     Conocido  Viejo    Largo  Trabajo\n",
       "6   Saltar  Desconocido  Viejo    Corto  Trabajo\n",
       "7     Leer  Desconocido  Nuevo    Corto  Trabajo\n",
       "8   Saltar     Conocido  Viejo    Largo     Casa\n",
       "9   Saltar     Conocido  Nuevo    Largo  Trabajo\n",
       "10  Saltar  Desconocido  Viejo    Corto     Casa\n",
       "11  Saltar     Conocido  Nuevo    Largo  Trabajo\n",
       "12    Leer     Conocido  Viejo    Corto     Casa\n",
       "13    Leer     Conocido  Nuevo    Corto  Trabajo\n",
       "14    Leer     Conocido  Nuevo    Corto     Casa\n",
       "15    Leer     Conocido  Viejo    Corto  Trabajo\n",
       "16    Leer     Conocido  Nuevo    Corto     Casa\n",
       "17    Leer  Desconocido  Nuevo    Corto  Trabajo"
      ]
     },
     "execution_count": 3,
     "metadata": {},
     "output_type": "execute_result"
    }
   ],
   "source": [
    "data = {'Acción': ['Saltar','Leer','Saltar','Saltar','Leer','Saltar','Saltar','Leer','Saltar','Saltar','Saltar','Saltar','Leer','Leer','Leer','Leer','Leer','Leer']\n",
    "        , 'Autor': ['Conocido','Desconocido','Desconocido','Conocido','Conocido','Conocido','Desconocido','Desconocido','Conocido','Conocido','Desconocido','Conocido','Conocido','Conocido','Conocido','Conocido','Conocido','Desconocido']\n",
    "        , 'Trama': ['Nuevo','Nuevo','Viejo','Viejo','Nuevo','Viejo','Viejo','Nuevo','Viejo','Nuevo','Viejo','Nuevo','Viejo','Nuevo','Nuevo','Viejo','Nuevo','Nuevo']\n",
    "        , 'Longitud': ['Largo','Corto','Largo','Largo','Corto','Largo','Corto','Corto','Largo','Largo','Corto','Largo','Corto','Corto','Corto','Corto','Corto','Corto']\n",
    "        , 'Sitio': ['Casa','Trabajo','Trabajo','Casa','Casa','Trabajo','Trabajo','Trabajo','Casa','Trabajo','Casa','Trabajo','Casa','Trabajo','Casa','Trabajo','Casa','Trabajo']}  \n",
    "\n",
    "df = pd.DataFrame(data)  \n",
    "df.head(18)"
   ]
  },
  {
   "cell_type": "markdown",
   "metadata": {},
   "source": [
    "### B): Calcule el numero total de instancias posibles."
   ]
  },
  {
   "cell_type": "markdown",
   "metadata": {},
   "source": [
    "Hay 5 variables con dos valores posibles para cada una, por lo que tenemos $2^4=16$ instancias posibles"
   ]
  },
  {
   "cell_type": "markdown",
   "metadata": {},
   "source": [
    "### C): Determinar a partir de los datos si las siguientes hipotesis son verdaderas o falsas:\n",
    "    Si el el libro es de un autor conocido con una trama vieja, es corto y se desea leer en camino al trabajo, la recomendación es no leer. \n",
    "    \n",
    "    \n",
    "    Si el el libro es de un autor desconocido con una trama nueva, es corto y se desea leer en camino al trabajo, la recomendación es leer. "
   ]
  },
  {
   "cell_type": "markdown",
   "metadata": {},
   "source": [
    "Segun Cami son falsa y verdadera las hipotesis\n",
    "\n",
    "Observemos en la linea 15 del dataframe, tenemos un libro de un autor conocido, con una trama vieja, corto y para leer en camino al trabajo y cuya recomendación es leer, asi que la primera hipótesis es falsa.\n",
    "\n",
    "Verificamos ahora la segunda hipótesis"
   ]
  },
  {
   "cell_type": "code",
   "execution_count": 4,
   "metadata": {},
   "outputs": [
    {
     "data": {
      "text/html": [
       "<div>\n",
       "<style scoped>\n",
       "    .dataframe tbody tr th:only-of-type {\n",
       "        vertical-align: middle;\n",
       "    }\n",
       "\n",
       "    .dataframe tbody tr th {\n",
       "        vertical-align: top;\n",
       "    }\n",
       "\n",
       "    .dataframe thead th {\n",
       "        text-align: right;\n",
       "    }\n",
       "</style>\n",
       "<table border=\"1\" class=\"dataframe\">\n",
       "  <thead>\n",
       "    <tr style=\"text-align: right;\">\n",
       "      <th></th>\n",
       "      <th>Acción</th>\n",
       "      <th>Autor</th>\n",
       "      <th>Trama</th>\n",
       "      <th>Longitud</th>\n",
       "      <th>Sitio</th>\n",
       "    </tr>\n",
       "  </thead>\n",
       "  <tbody>\n",
       "    <tr>\n",
       "      <th>1</th>\n",
       "      <td>Leer</td>\n",
       "      <td>Desconocido</td>\n",
       "      <td>Nuevo</td>\n",
       "      <td>Corto</td>\n",
       "      <td>Trabajo</td>\n",
       "    </tr>\n",
       "    <tr>\n",
       "      <th>7</th>\n",
       "      <td>Leer</td>\n",
       "      <td>Desconocido</td>\n",
       "      <td>Nuevo</td>\n",
       "      <td>Corto</td>\n",
       "      <td>Trabajo</td>\n",
       "    </tr>\n",
       "    <tr>\n",
       "      <th>17</th>\n",
       "      <td>Leer</td>\n",
       "      <td>Desconocido</td>\n",
       "      <td>Nuevo</td>\n",
       "      <td>Corto</td>\n",
       "      <td>Trabajo</td>\n",
       "    </tr>\n",
       "  </tbody>\n",
       "</table>\n",
       "</div>"
      ],
      "text/plain": [
       "   Acción        Autor  Trama Longitud    Sitio\n",
       "1    Leer  Desconocido  Nuevo    Corto  Trabajo\n",
       "7    Leer  Desconocido  Nuevo    Corto  Trabajo\n",
       "17   Leer  Desconocido  Nuevo    Corto  Trabajo"
      ]
     },
     "execution_count": 4,
     "metadata": {},
     "output_type": "execute_result"
    }
   ],
   "source": [
    "desc=df[df['Autor']=='Desconocido']\n",
    "nuev=desc[desc['Trama']=='Nuevo']\n",
    "cort=nuev[nuev['Longitud']=='Corto']\n",
    "df2=cort[cort['Sitio']=='Trabajo']\n",
    "df2.head()"
   ]
  },
  {
   "cell_type": "markdown",
   "metadata": {},
   "source": [
    "Vemos que la recomendación siempre es leer, por lo que la hipotesis es verdadera"
   ]
  },
  {
   "cell_type": "markdown",
   "metadata": {},
   "source": [
    "### D): Elaborar las hipotesis especificas maximales en el aprendizaje del concepto 'recomendacion para leer'. \n"
   ]
  },
  {
   "cell_type": "code",
   "execution_count": 9,
   "metadata": {},
   "outputs": [
    {
     "data": {
      "text/html": [
       "<div>\n",
       "<style scoped>\n",
       "    .dataframe tbody tr th:only-of-type {\n",
       "        vertical-align: middle;\n",
       "    }\n",
       "\n",
       "    .dataframe tbody tr th {\n",
       "        vertical-align: top;\n",
       "    }\n",
       "\n",
       "    .dataframe thead th {\n",
       "        text-align: right;\n",
       "    }\n",
       "</style>\n",
       "<table border=\"1\" class=\"dataframe\">\n",
       "  <thead>\n",
       "    <tr style=\"text-align: right;\">\n",
       "      <th></th>\n",
       "      <th>Acción</th>\n",
       "      <th>Autor</th>\n",
       "      <th>Trama</th>\n",
       "      <th>Longitud</th>\n",
       "      <th>Sitio</th>\n",
       "    </tr>\n",
       "  </thead>\n",
       "  <tbody>\n",
       "    <tr>\n",
       "      <th>1</th>\n",
       "      <td>Leer</td>\n",
       "      <td>Desconocido</td>\n",
       "      <td>Nuevo</td>\n",
       "      <td>Corto</td>\n",
       "      <td>Trabajo</td>\n",
       "    </tr>\n",
       "    <tr>\n",
       "      <th>4</th>\n",
       "      <td>Leer</td>\n",
       "      <td>Conocido</td>\n",
       "      <td>Nuevo</td>\n",
       "      <td>Corto</td>\n",
       "      <td>Casa</td>\n",
       "    </tr>\n",
       "    <tr>\n",
       "      <th>7</th>\n",
       "      <td>Leer</td>\n",
       "      <td>Desconocido</td>\n",
       "      <td>Nuevo</td>\n",
       "      <td>Corto</td>\n",
       "      <td>Trabajo</td>\n",
       "    </tr>\n",
       "    <tr>\n",
       "      <th>12</th>\n",
       "      <td>Leer</td>\n",
       "      <td>Conocido</td>\n",
       "      <td>Viejo</td>\n",
       "      <td>Corto</td>\n",
       "      <td>Casa</td>\n",
       "    </tr>\n",
       "    <tr>\n",
       "      <th>13</th>\n",
       "      <td>Leer</td>\n",
       "      <td>Conocido</td>\n",
       "      <td>Nuevo</td>\n",
       "      <td>Corto</td>\n",
       "      <td>Trabajo</td>\n",
       "    </tr>\n",
       "    <tr>\n",
       "      <th>14</th>\n",
       "      <td>Leer</td>\n",
       "      <td>Conocido</td>\n",
       "      <td>Nuevo</td>\n",
       "      <td>Corto</td>\n",
       "      <td>Casa</td>\n",
       "    </tr>\n",
       "    <tr>\n",
       "      <th>15</th>\n",
       "      <td>Leer</td>\n",
       "      <td>Conocido</td>\n",
       "      <td>Viejo</td>\n",
       "      <td>Corto</td>\n",
       "      <td>Trabajo</td>\n",
       "    </tr>\n",
       "    <tr>\n",
       "      <th>16</th>\n",
       "      <td>Leer</td>\n",
       "      <td>Conocido</td>\n",
       "      <td>Nuevo</td>\n",
       "      <td>Corto</td>\n",
       "      <td>Casa</td>\n",
       "    </tr>\n",
       "    <tr>\n",
       "      <th>17</th>\n",
       "      <td>Leer</td>\n",
       "      <td>Desconocido</td>\n",
       "      <td>Nuevo</td>\n",
       "      <td>Corto</td>\n",
       "      <td>Trabajo</td>\n",
       "    </tr>\n",
       "  </tbody>\n",
       "</table>\n",
       "</div>"
      ],
      "text/plain": [
       "   Acción        Autor  Trama Longitud    Sitio\n",
       "1    Leer  Desconocido  Nuevo    Corto  Trabajo\n",
       "4    Leer     Conocido  Nuevo    Corto     Casa\n",
       "7    Leer  Desconocido  Nuevo    Corto  Trabajo\n",
       "12   Leer     Conocido  Viejo    Corto     Casa\n",
       "13   Leer     Conocido  Nuevo    Corto  Trabajo\n",
       "14   Leer     Conocido  Nuevo    Corto     Casa\n",
       "15   Leer     Conocido  Viejo    Corto  Trabajo\n",
       "16   Leer     Conocido  Nuevo    Corto     Casa\n",
       "17   Leer  Desconocido  Nuevo    Corto  Trabajo"
      ]
     },
     "execution_count": 9,
     "metadata": {},
     "output_type": "execute_result"
    }
   ],
   "source": [
    "leer=df[df['Acción']=='Leer']\n",
    "leer.head(22)"
   ]
  },
  {
   "cell_type": "markdown",
   "metadata": {},
   "source": [
    "Ya de entrada podemos decir que para que la recomendación sea leer, la variable 'Longitud' tiene que tomar el valor 'Corto'. "
   ]
  },
  {
   "cell_type": "code",
   "execution_count": 10,
   "metadata": {},
   "outputs": [
    {
     "data": {
      "text/html": [
       "<div>\n",
       "<style scoped>\n",
       "    .dataframe tbody tr th:only-of-type {\n",
       "        vertical-align: middle;\n",
       "    }\n",
       "\n",
       "    .dataframe tbody tr th {\n",
       "        vertical-align: top;\n",
       "    }\n",
       "\n",
       "    .dataframe thead th {\n",
       "        text-align: right;\n",
       "    }\n",
       "</style>\n",
       "<table border=\"1\" class=\"dataframe\">\n",
       "  <thead>\n",
       "    <tr style=\"text-align: right;\">\n",
       "      <th></th>\n",
       "      <th>Acción</th>\n",
       "      <th>Autor</th>\n",
       "      <th>Trama</th>\n",
       "      <th>Longitud</th>\n",
       "      <th>Sitio</th>\n",
       "    </tr>\n",
       "  </thead>\n",
       "  <tbody>\n",
       "    <tr>\n",
       "      <th>1</th>\n",
       "      <td>Leer</td>\n",
       "      <td>Desconocido</td>\n",
       "      <td>Nuevo</td>\n",
       "      <td>Corto</td>\n",
       "      <td>Trabajo</td>\n",
       "    </tr>\n",
       "    <tr>\n",
       "      <th>7</th>\n",
       "      <td>Leer</td>\n",
       "      <td>Desconocido</td>\n",
       "      <td>Nuevo</td>\n",
       "      <td>Corto</td>\n",
       "      <td>Trabajo</td>\n",
       "    </tr>\n",
       "    <tr>\n",
       "      <th>17</th>\n",
       "      <td>Leer</td>\n",
       "      <td>Desconocido</td>\n",
       "      <td>Nuevo</td>\n",
       "      <td>Corto</td>\n",
       "      <td>Trabajo</td>\n",
       "    </tr>\n",
       "  </tbody>\n",
       "</table>\n",
       "</div>"
      ],
      "text/plain": [
       "   Acción        Autor  Trama Longitud    Sitio\n",
       "1    Leer  Desconocido  Nuevo    Corto  Trabajo\n",
       "7    Leer  Desconocido  Nuevo    Corto  Trabajo\n",
       "17   Leer  Desconocido  Nuevo    Corto  Trabajo"
      ]
     },
     "execution_count": 10,
     "metadata": {},
     "output_type": "execute_result"
    }
   ],
   "source": [
    "autor_desc=leer[leer['Autor']=='Desconocido']\n",
    "autor_desc.head(22)"
   ]
  },
  {
   "cell_type": "markdown",
   "metadata": {},
   "source": [
    "Vemos aqui que siempre que el autor sea desconocido, para que la recomendación sea leer las variables restantes deben tomar los valores 'Trama'='Nuevo' y 'Sitio'='Trabajo'.\n",
    "\n",
    "Leer = {Autor:Desconocido, Trama:Nuevo, Longitud:Corto, Sitio:Trabajo}"
   ]
  },
  {
   "cell_type": "code",
   "execution_count": 11,
   "metadata": {},
   "outputs": [
    {
     "data": {
      "text/html": [
       "<div>\n",
       "<style scoped>\n",
       "    .dataframe tbody tr th:only-of-type {\n",
       "        vertical-align: middle;\n",
       "    }\n",
       "\n",
       "    .dataframe tbody tr th {\n",
       "        vertical-align: top;\n",
       "    }\n",
       "\n",
       "    .dataframe thead th {\n",
       "        text-align: right;\n",
       "    }\n",
       "</style>\n",
       "<table border=\"1\" class=\"dataframe\">\n",
       "  <thead>\n",
       "    <tr style=\"text-align: right;\">\n",
       "      <th></th>\n",
       "      <th>Acción</th>\n",
       "      <th>Autor</th>\n",
       "      <th>Trama</th>\n",
       "      <th>Longitud</th>\n",
       "      <th>Sitio</th>\n",
       "    </tr>\n",
       "  </thead>\n",
       "  <tbody>\n",
       "    <tr>\n",
       "      <th>4</th>\n",
       "      <td>Leer</td>\n",
       "      <td>Conocido</td>\n",
       "      <td>Nuevo</td>\n",
       "      <td>Corto</td>\n",
       "      <td>Casa</td>\n",
       "    </tr>\n",
       "    <tr>\n",
       "      <th>12</th>\n",
       "      <td>Leer</td>\n",
       "      <td>Conocido</td>\n",
       "      <td>Viejo</td>\n",
       "      <td>Corto</td>\n",
       "      <td>Casa</td>\n",
       "    </tr>\n",
       "    <tr>\n",
       "      <th>13</th>\n",
       "      <td>Leer</td>\n",
       "      <td>Conocido</td>\n",
       "      <td>Nuevo</td>\n",
       "      <td>Corto</td>\n",
       "      <td>Trabajo</td>\n",
       "    </tr>\n",
       "    <tr>\n",
       "      <th>14</th>\n",
       "      <td>Leer</td>\n",
       "      <td>Conocido</td>\n",
       "      <td>Nuevo</td>\n",
       "      <td>Corto</td>\n",
       "      <td>Casa</td>\n",
       "    </tr>\n",
       "    <tr>\n",
       "      <th>15</th>\n",
       "      <td>Leer</td>\n",
       "      <td>Conocido</td>\n",
       "      <td>Viejo</td>\n",
       "      <td>Corto</td>\n",
       "      <td>Trabajo</td>\n",
       "    </tr>\n",
       "    <tr>\n",
       "      <th>16</th>\n",
       "      <td>Leer</td>\n",
       "      <td>Conocido</td>\n",
       "      <td>Nuevo</td>\n",
       "      <td>Corto</td>\n",
       "      <td>Casa</td>\n",
       "    </tr>\n",
       "  </tbody>\n",
       "</table>\n",
       "</div>"
      ],
      "text/plain": [
       "   Acción     Autor  Trama Longitud    Sitio\n",
       "4    Leer  Conocido  Nuevo    Corto     Casa\n",
       "12   Leer  Conocido  Viejo    Corto     Casa\n",
       "13   Leer  Conocido  Nuevo    Corto  Trabajo\n",
       "14   Leer  Conocido  Nuevo    Corto     Casa\n",
       "15   Leer  Conocido  Viejo    Corto  Trabajo\n",
       "16   Leer  Conocido  Nuevo    Corto     Casa"
      ]
     },
     "execution_count": 11,
     "metadata": {},
     "output_type": "execute_result"
    }
   ],
   "source": [
    "autor_con=leer[leer['Autor']=='Conocido']\n",
    "autor_con.head(16)"
   ]
  },
  {
   "cell_type": "markdown",
   "metadata": {},
   "source": [
    "Aqui se puede ver que si el autor es conocido, no importa el valor que tomen las variables 'Trama' y 'Sitio', la recomendación sera leer. Una hipótesis maximal seria entonces:\n",
    "\n",
    "Leer = {Autor:Conocido, Trama=?, Longitud=Corto, Sitio=?}"
   ]
  },
  {
   "cell_type": "code",
   "execution_count": 12,
   "metadata": {},
   "outputs": [
    {
     "data": {
      "text/html": [
       "<div>\n",
       "<style scoped>\n",
       "    .dataframe tbody tr th:only-of-type {\n",
       "        vertical-align: middle;\n",
       "    }\n",
       "\n",
       "    .dataframe tbody tr th {\n",
       "        vertical-align: top;\n",
       "    }\n",
       "\n",
       "    .dataframe thead th {\n",
       "        text-align: right;\n",
       "    }\n",
       "</style>\n",
       "<table border=\"1\" class=\"dataframe\">\n",
       "  <thead>\n",
       "    <tr style=\"text-align: right;\">\n",
       "      <th></th>\n",
       "      <th>Acción</th>\n",
       "      <th>Autor</th>\n",
       "      <th>Trama</th>\n",
       "      <th>Longitud</th>\n",
       "      <th>Sitio</th>\n",
       "    </tr>\n",
       "  </thead>\n",
       "  <tbody>\n",
       "    <tr>\n",
       "      <th>0</th>\n",
       "      <td>Saltar</td>\n",
       "      <td>Conocido</td>\n",
       "      <td>Nuevo</td>\n",
       "      <td>Largo</td>\n",
       "      <td>Casa</td>\n",
       "    </tr>\n",
       "    <tr>\n",
       "      <th>2</th>\n",
       "      <td>Saltar</td>\n",
       "      <td>Desconocido</td>\n",
       "      <td>Viejo</td>\n",
       "      <td>Largo</td>\n",
       "      <td>Trabajo</td>\n",
       "    </tr>\n",
       "    <tr>\n",
       "      <th>3</th>\n",
       "      <td>Saltar</td>\n",
       "      <td>Conocido</td>\n",
       "      <td>Viejo</td>\n",
       "      <td>Largo</td>\n",
       "      <td>Casa</td>\n",
       "    </tr>\n",
       "    <tr>\n",
       "      <th>5</th>\n",
       "      <td>Saltar</td>\n",
       "      <td>Conocido</td>\n",
       "      <td>Viejo</td>\n",
       "      <td>Largo</td>\n",
       "      <td>Trabajo</td>\n",
       "    </tr>\n",
       "    <tr>\n",
       "      <th>6</th>\n",
       "      <td>Saltar</td>\n",
       "      <td>Desconocido</td>\n",
       "      <td>Viejo</td>\n",
       "      <td>Corto</td>\n",
       "      <td>Trabajo</td>\n",
       "    </tr>\n",
       "    <tr>\n",
       "      <th>8</th>\n",
       "      <td>Saltar</td>\n",
       "      <td>Conocido</td>\n",
       "      <td>Viejo</td>\n",
       "      <td>Largo</td>\n",
       "      <td>Casa</td>\n",
       "    </tr>\n",
       "    <tr>\n",
       "      <th>9</th>\n",
       "      <td>Saltar</td>\n",
       "      <td>Conocido</td>\n",
       "      <td>Nuevo</td>\n",
       "      <td>Largo</td>\n",
       "      <td>Trabajo</td>\n",
       "    </tr>\n",
       "    <tr>\n",
       "      <th>10</th>\n",
       "      <td>Saltar</td>\n",
       "      <td>Desconocido</td>\n",
       "      <td>Viejo</td>\n",
       "      <td>Corto</td>\n",
       "      <td>Casa</td>\n",
       "    </tr>\n",
       "    <tr>\n",
       "      <th>11</th>\n",
       "      <td>Saltar</td>\n",
       "      <td>Conocido</td>\n",
       "      <td>Nuevo</td>\n",
       "      <td>Largo</td>\n",
       "      <td>Trabajo</td>\n",
       "    </tr>\n",
       "  </tbody>\n",
       "</table>\n",
       "</div>"
      ],
      "text/plain": [
       "    Acción        Autor  Trama Longitud    Sitio\n",
       "0   Saltar     Conocido  Nuevo    Largo     Casa\n",
       "2   Saltar  Desconocido  Viejo    Largo  Trabajo\n",
       "3   Saltar     Conocido  Viejo    Largo     Casa\n",
       "5   Saltar     Conocido  Viejo    Largo  Trabajo\n",
       "6   Saltar  Desconocido  Viejo    Corto  Trabajo\n",
       "8   Saltar     Conocido  Viejo    Largo     Casa\n",
       "9   Saltar     Conocido  Nuevo    Largo  Trabajo\n",
       "10  Saltar  Desconocido  Viejo    Corto     Casa\n",
       "11  Saltar     Conocido  Nuevo    Largo  Trabajo"
      ]
     },
     "execution_count": 12,
     "metadata": {},
     "output_type": "execute_result"
    }
   ],
   "source": [
    "no_leer=df[df['Acción']=='Saltar']\n",
    "no_leer.head(16)"
   ]
  },
  {
   "cell_type": "markdown",
   "metadata": {},
   "source": [
    "Veamos que si la variable 'Longitud' toma el valor 'Corto', entonces las variables 'Autor' y 'Trama' deben tomar los valores 'Desconocido'y 'Viejo' para que la recomendacion sea no leer. \n",
    "\n",
    "No leer = {Autor:Desconocido, Trama:Viejo, Longitud:Corto, Sitio:?}"
   ]
  },
  {
   "cell_type": "code",
   "execution_count": 13,
   "metadata": {},
   "outputs": [
    {
     "data": {
      "text/html": [
       "<div>\n",
       "<style scoped>\n",
       "    .dataframe tbody tr th:only-of-type {\n",
       "        vertical-align: middle;\n",
       "    }\n",
       "\n",
       "    .dataframe tbody tr th {\n",
       "        vertical-align: top;\n",
       "    }\n",
       "\n",
       "    .dataframe thead th {\n",
       "        text-align: right;\n",
       "    }\n",
       "</style>\n",
       "<table border=\"1\" class=\"dataframe\">\n",
       "  <thead>\n",
       "    <tr style=\"text-align: right;\">\n",
       "      <th></th>\n",
       "      <th>Acción</th>\n",
       "      <th>Autor</th>\n",
       "      <th>Trama</th>\n",
       "      <th>Longitud</th>\n",
       "      <th>Sitio</th>\n",
       "    </tr>\n",
       "  </thead>\n",
       "  <tbody>\n",
       "    <tr>\n",
       "      <th>6</th>\n",
       "      <td>Saltar</td>\n",
       "      <td>Desconocido</td>\n",
       "      <td>Viejo</td>\n",
       "      <td>Corto</td>\n",
       "      <td>Trabajo</td>\n",
       "    </tr>\n",
       "    <tr>\n",
       "      <th>10</th>\n",
       "      <td>Saltar</td>\n",
       "      <td>Desconocido</td>\n",
       "      <td>Viejo</td>\n",
       "      <td>Corto</td>\n",
       "      <td>Casa</td>\n",
       "    </tr>\n",
       "  </tbody>\n",
       "</table>\n",
       "</div>"
      ],
      "text/plain": [
       "    Acción        Autor  Trama Longitud    Sitio\n",
       "6   Saltar  Desconocido  Viejo    Corto  Trabajo\n",
       "10  Saltar  Desconocido  Viejo    Corto     Casa"
      ]
     },
     "execution_count": 13,
     "metadata": {},
     "output_type": "execute_result"
    }
   ],
   "source": [
    "corto=no_leer[no_leer['Longitud']=='Corto']\n",
    "corto.head(4)"
   ]
  },
  {
   "cell_type": "code",
   "execution_count": 15,
   "metadata": {},
   "outputs": [
    {
     "data": {
      "text/html": [
       "<div>\n",
       "<style scoped>\n",
       "    .dataframe tbody tr th:only-of-type {\n",
       "        vertical-align: middle;\n",
       "    }\n",
       "\n",
       "    .dataframe tbody tr th {\n",
       "        vertical-align: top;\n",
       "    }\n",
       "\n",
       "    .dataframe thead th {\n",
       "        text-align: right;\n",
       "    }\n",
       "</style>\n",
       "<table border=\"1\" class=\"dataframe\">\n",
       "  <thead>\n",
       "    <tr style=\"text-align: right;\">\n",
       "      <th></th>\n",
       "      <th>Acción</th>\n",
       "      <th>Autor</th>\n",
       "      <th>Trama</th>\n",
       "      <th>Longitud</th>\n",
       "      <th>Sitio</th>\n",
       "    </tr>\n",
       "  </thead>\n",
       "  <tbody>\n",
       "    <tr>\n",
       "      <th>0</th>\n",
       "      <td>Saltar</td>\n",
       "      <td>Conocido</td>\n",
       "      <td>Nuevo</td>\n",
       "      <td>Largo</td>\n",
       "      <td>Casa</td>\n",
       "    </tr>\n",
       "    <tr>\n",
       "      <th>2</th>\n",
       "      <td>Saltar</td>\n",
       "      <td>Desconocido</td>\n",
       "      <td>Viejo</td>\n",
       "      <td>Largo</td>\n",
       "      <td>Trabajo</td>\n",
       "    </tr>\n",
       "    <tr>\n",
       "      <th>3</th>\n",
       "      <td>Saltar</td>\n",
       "      <td>Conocido</td>\n",
       "      <td>Viejo</td>\n",
       "      <td>Largo</td>\n",
       "      <td>Casa</td>\n",
       "    </tr>\n",
       "    <tr>\n",
       "      <th>5</th>\n",
       "      <td>Saltar</td>\n",
       "      <td>Conocido</td>\n",
       "      <td>Viejo</td>\n",
       "      <td>Largo</td>\n",
       "      <td>Trabajo</td>\n",
       "    </tr>\n",
       "    <tr>\n",
       "      <th>8</th>\n",
       "      <td>Saltar</td>\n",
       "      <td>Conocido</td>\n",
       "      <td>Viejo</td>\n",
       "      <td>Largo</td>\n",
       "      <td>Casa</td>\n",
       "    </tr>\n",
       "    <tr>\n",
       "      <th>9</th>\n",
       "      <td>Saltar</td>\n",
       "      <td>Conocido</td>\n",
       "      <td>Nuevo</td>\n",
       "      <td>Largo</td>\n",
       "      <td>Trabajo</td>\n",
       "    </tr>\n",
       "    <tr>\n",
       "      <th>11</th>\n",
       "      <td>Saltar</td>\n",
       "      <td>Conocido</td>\n",
       "      <td>Nuevo</td>\n",
       "      <td>Largo</td>\n",
       "      <td>Trabajo</td>\n",
       "    </tr>\n",
       "  </tbody>\n",
       "</table>\n",
       "</div>"
      ],
      "text/plain": [
       "    Acción        Autor  Trama Longitud    Sitio\n",
       "0   Saltar     Conocido  Nuevo    Largo     Casa\n",
       "2   Saltar  Desconocido  Viejo    Largo  Trabajo\n",
       "3   Saltar     Conocido  Viejo    Largo     Casa\n",
       "5   Saltar     Conocido  Viejo    Largo  Trabajo\n",
       "8   Saltar     Conocido  Viejo    Largo     Casa\n",
       "9   Saltar     Conocido  Nuevo    Largo  Trabajo\n",
       "11  Saltar     Conocido  Nuevo    Largo  Trabajo"
      ]
     },
     "execution_count": 15,
     "metadata": {},
     "output_type": "execute_result"
    }
   ],
   "source": [
    "largo=no_leer[no_leer['Longitud']=='Largo']\n",
    "largo.head(16)"
   ]
  },
  {
   "cell_type": "markdown",
   "metadata": {},
   "source": [
    "Vemos que no importan los valores que tomen las variables 'Autor', 'Trama' o 'Sitio', siempre que la longitud del libro sea larga la recomendación será no leer. Entonces tenemos que la hipótesis maximal es \n",
    "\n",
    "No leer = {Autor:?, Trama:?, Longitud:Largo, Sitio:?}"
   ]
  },
  {
   "cell_type": "markdown",
   "metadata": {},
   "source": [
    "### E): Utilizando las hipotesis especıficas elaboradas, construir un arbol de decision utilizando en cada nodo la sentencia if sobre los valores una caracterıstica para reproducir el criterio de clasificacion empleado."
   ]
  },
  {
   "cell_type": "raw",
   "metadata": {},
   "source": [
    "LONGITUD ------ largo ------- NO LEER\n",
    "         |\n",
    "         |----- corto ------- AUTOR ------ conocido ------- LEER\n",
    "                                    |\n",
    "                                    |----- desconocido ---- TRAMA ------- viejo ------ NO LEER\n",
    "                                                                  |\n",
    "                                                                  |------ nuevo ------ LEER (aca tengo una duda: que pasa con el sitio de trabajo?\n",
    "                                                                                             no hay datos que reunan las caracteristicas                                                                                                          {corto,desconocido,nuevo,casa} para clasificarlos)\n",
    "                                                    "
   ]
  },
  {
   "cell_type": "code",
   "execution_count": 30,
   "metadata": {},
   "outputs": [],
   "source": [
    "def tree(l,a,t,s):\n",
    "    if l=='Largo':\n",
    "        return 'La recomendación es no leer'\n",
    "    else:\n",
    "        if a=='Conocido':\n",
    "            return 'Leer'\n",
    "        else:\n",
    "            if t=='Viejo':\n",
    "                return 'La recomendación es no leer'\n",
    "            else:\n",
    "                return 'La recomendación es leer'"
   ]
  },
  {
   "cell_type": "code",
   "execution_count": 31,
   "metadata": {},
   "outputs": [
    {
     "data": {
      "text/plain": [
       "'La recomendación es no leer'"
      ]
     },
     "execution_count": 31,
     "metadata": {},
     "output_type": "execute_result"
    }
   ],
   "source": [
    "tree('Largo','Conocido','Nuevo','Trabajo')"
   ]
  },
  {
   "cell_type": "code",
   "execution_count": 32,
   "metadata": {},
   "outputs": [
    {
     "data": {
      "text/plain": [
       "'La recomendación es leer'"
      ]
     },
     "execution_count": 32,
     "metadata": {},
     "output_type": "execute_result"
    }
   ],
   "source": [
    "tree('Corto','Desconocido','Nuevo','Casa')"
   ]
  }
 ],
 "metadata": {
  "anaconda-cloud": {},
  "kernelspec": {
   "display_name": "Python 3 (ipykernel)",
   "language": "python",
   "name": "python3"
  },
  "language_info": {
   "codemirror_mode": {
    "name": "ipython",
    "version": 3
   },
   "file_extension": ".py",
   "mimetype": "text/x-python",
   "name": "python",
   "nbconvert_exporter": "python",
   "pygments_lexer": "ipython3",
   "version": "3.8.8"
  }
 },
 "nbformat": 4,
 "nbformat_minor": 4
}
