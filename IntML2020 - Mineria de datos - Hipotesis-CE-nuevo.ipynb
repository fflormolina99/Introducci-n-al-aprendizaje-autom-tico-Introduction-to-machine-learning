{
 "cells": [
  {
   "cell_type": "markdown",
   "metadata": {},
   "source": [
    "<center>\n",
    "<img src=\"../images/ods_stickers.jpg\" />\n",
    "    \n",
    "# Introducción al Machine Learning 2020\n",
    "\n",
    "Basado en material de  Prof. M. Riedmiller y Manuel Blum Traducido y editado al español por [Ana Georgina Flesia](https://www.linkedin.com/in/georginaflesia/). Este material esta sujeto a los términos y condiciones de la licencia  [Creative Commons CC BY-NC-SA 4.0](https://creativecommons.org/licenses/by-nc-sa/4.0/). Se permite el uso irrestricto para todo propósito no comercial."
   ]
  },
  {
   "cell_type": "markdown",
   "metadata": {},
   "source": [
    "### Ejercicio 1: Version Spaces and Conjunctive Hypotheses\n",
    "\n",
    "### (a) Qué son los elementos de un espacio de versión? Cómo están ordenados? Qué se puede decir sobre la definición y el tamaño de  S and G?"
   ]
  },
  {
   "cell_type": "markdown",
   "metadata": {},
   "source": [
    "Los elementos de un espacio de versión son hipótesis, en particular aquellas que son consistentes con todos los datos de un conjunto de entrenamiento D. En el espacio de versión, las hipótesis estan ordenadas desde la más especifica a la mas general, siendo S el conjunto de hipótesis más especificas posible y G el conjunto de las más generales posibles, dado que ambas sean consistentes con el conjunto de entrenamiento. S y G deben ser tales que sean cotas para todas las hipótesis conststentes: es decir, toda hipótesis consistente con el conjunto de entrenamiento debe estar contenida en G, y el tamaño de G es mayor que el de S (o sea G tiene mas elementos que S)."
   ]
  },
  {
   "cell_type": "markdown",
   "metadata": {},
   "source": [
    "### (b) A continuación, se desea describir si una persona está enferma.  Usamos una representación basada en restricciones conjuntivas (tres por sujeto) para describir a una persona individual. Estas restricciones son \"moco\", \"tos\" y \"piel enrojecida\", cada una de las cuales puede tomar el valor verdadero (‘+’) o falso (‘-’). Decimos que alguien está enfermo, si está tosiendo y tiene la nariz con moco. Cada síntoma individualmente no significa que la persona esté enferma. Especifique el espacio de hipótesis que gestiona el enfoque de espacio de versiones. Para hacerlo, organice todas las hipótesis en una estructura gráfica utilizando la relación \"más específica que\"."
   ]
  },
  {
   "cell_type": "code",
   "execution_count": 6,
   "metadata": {},
   "outputs": [
    {
     "data": {
      "text/html": [
       "<img src=\"hipotesis.jpg\" width=\"700\" height=\"700\"/>"
      ],
      "text/plain": [
       "<IPython.core.display.Image object>"
      ]
     },
     "execution_count": 6,
     "metadata": {},
     "output_type": "execute_result"
    }
   ],
   "source": [
    "# import image module\n",
    "from IPython.display import Image\n",
    "  \n",
    "# get the image\n",
    "Image(url=\"hipotesis.jpg\", width=700, height=700)"
   ]
  },
  {
   "cell_type": "markdown",
   "metadata": {},
   "source": [
    "\n",
    "### c) Aplique el algoritmo de eliminación de candidatos (CE) a la secuencia de ejemplos de entrenamiento especificados en la Tabla  y nombre los contenidos de los conjuntos S y G después de cada paso.\n",
    "\n",
    "\n",
    "     |  Ejemplo | Moco  | Tos| Piel enrojecida | Clasificación     | \n",
    "    -----------------------------------------------------------\n",
    "     |   d1     |   +   |  + |         +       | positivo (enfermo)|\n",
    "     |   d2     |   +   |  + |         -       | positivo (enfermo)|\n",
    "     |   d3     |   +   |  - |         +       | negativo (sano)   |\n",
    "     |   d4     |   -   |  + |         +       | negativo (sano)   |\n",
    "     |   d5     |   -   |  - |         +       | negativo (sano)   |\n",
    "     |   d6     |   -   |  - |         -       | negativo (sano)   |\n"
   ]
  },
  {
   "cell_type": "markdown",
   "metadata": {},
   "source": [
    "Partimos de $S_0 = \\{<\\emptyset,\\emptyset,\\emptyset>\\}$ y $G_0=\\{<?,?,?>\\}$\n",
    "\n",
    "1. Ejemplo 1: {+,+,+} = positivo\n",
    "\n",
    "No cambio $G_0$\n",
    "\n",
    "$S_1=\\{+,+,+\\}$, $G_1=\\{?,?,?\\}$\n",
    "\n",
    "2. Ejemplo 2: {+,+,-} = positivo\n",
    "\n",
    "No cambio $G_1$\n",
    "\n",
    "$S_2=\\{+,+,?\\}$, $G_2=\\{?,?,?\\}$\n",
    "\n",
    "3. Ejemplo 3: {+,-,+} = negativo\n",
    "\n",
    "No cambio $S_2$\n",
    "\n",
    "$G_3=\\{?,+,?\\}$ es la minima generalizacion de $S_2$ que es consistente con el ejemplo\n",
    "\n",
    "$S_3==\\{+,+,?\\}$, $G_3=\\{?,+,?\\}$ \n",
    "\n",
    "4. Ejemplo 4: {-,+,+} = negativo\n",
    "\n",
    "No cambio $S_3$\n",
    "\n",
    "$G_4=\\{+,+,?\\}$ y ya converge a $S_3=S_4$\n",
    "\n",
    "Finalmente quedan $S=G=\\{+,+,?\\}$"
   ]
  },
  {
   "cell_type": "markdown",
   "metadata": {},
   "source": [
    "### d) Considera Ud que el órden de ingreso de los datos de la tabla afecta el aprendizaje de la hipótesis de salida? "
   ]
  },
  {
   "cell_type": "markdown",
   "metadata": {},
   "source": [
    "El orden del ingreso de los datos no puede afectar a la salida, o sea el resultado debe ser el mismo, pero puede ser que haga que converga mas lentamente a los conjuntos S y G."
   ]
  },
  {
   "cell_type": "markdown",
   "metadata": {},
   "source": [
    "### e) Supongamos un dominio con dos atributos, es decir, cualquier instancia se describe mediante dos restricciones. ¿Cuántos ejemplos de entrenamiento positivo y negativo son mínimamente requeridos por el algoritmo de eliminación de candidatos para aprender un concepto arbitrario?"
   ]
  },
  {
   "cell_type": "markdown",
   "metadata": {},
   "source": [
    "Si supongo que los datos de entrenamiento son suficientes para caracterizar el concepto, entonces necesito solo 3 ejemplos\n",
    "independientemente de que las variables sean binarias o no.\n",
    "Hay solo 4 casos para caracterizar el concepto : <valor1,valor2> ; <valor1, ? > ; < ? ,valor2> ; < ? , ? >\n",
    "Entonces con 3 ejemplos de entrenamiento basta.\n"
   ]
  },
  {
   "cell_type": "markdown",
   "metadata": {
    "tags": []
   },
   "source": [
    "### f) Ahora estamos ampliando el número de restricciones utilizadas para describir instancias de entrenamiento con  una restricción adicional llamada \"fiebre\". Decimos que alguien está enfermo, si tiene moco y está tosiendo (como lo hicimos antes), o si tiene fiebre. ¿Cómo funciona el enfoque del espacio de versiones usando el algoritmo CE ahora, dados las instancias nuevas? Qué sucede si el orden de presentación de las instancias se altera?\n",
    "\n",
    "\n",
    "\n",
    "\n",
    "     |  Ejemplo | Moco  | Tos| Piel enrojecida | Fiebre | Clasificación     | \n",
    "    -----------------------------------------------------------\n",
    "     |   d1     |   +   |  + |         +       |    -   | positivo (enfermo)|\n",
    "     |   d2     |   +   |  + |         -       |    -   | positivo (enfermo)|\n",
    "     |   d3     |   +   |  - |         +       |    +   | positivo (enfermo)|\n",
    "     |   d4     |   -   |  + |         +       |    -   | negativo (sano)   |\n",
    "     |   d5     |   -   |  - |         +       |    -   | negativo (sano)   |\n",
    "     |   d6     |   -   |  - |         -       |    -   | negativo (sano)   |\n",
    "\n",
    "coverge con S y G distintos\n",
    "\n",
    "\n",
    "     |  Ejemplo | Moco  | Tos| Piel enrojecida | Fiebre | Clasificación     | \n",
    "    -----------------------------------------------------------\n",
    "     |   d1     |   +   |  + |         +       |    -   | positivo (enfermo)|\n",
    "     |   d2     |   +   |  + |         -       |    -   | positivo (enfermo)|\n",
    "     |   d3     |   -   |  - |         +       |    +   | positivo (enfermo)|\n",
    "     |   d4     |   +   |  - |         -       |    -   | negativo (sano)   |\n",
    "     |   d5     |   -   |  - |         -       |    -   | negativo (sano)   |\n",
    "     |   d6     |   -   |  + |         -       |    -   | negativo (sano)   |\n",
    "     \n",
    " vacio \n"
   ]
  },
  {
   "cell_type": "markdown",
   "metadata": {
    "jp-MarkdownHeadingCollapsed": true,
    "tags": []
   },
   "source": [
    "### Primera tabla \n",
    "\n",
    "Partimos de $S_0=\\{\\emptyset,\\emptyset,\\emptyset\\}$ y $G_0=\\{?,?,?\\}$\n",
    "\n",
    "1. Ejemplo 1: {+,+,+,-} = positivo\n",
    "\n",
    "No toco $G_0$\n",
    "\n",
    "$S_1=\\{+,+,+,-\\}$, $G_1=\\{?,?,?,?\\}$\n",
    "\n",
    "2. Ejemplo 2: {+,+,-,-} = positivo\n",
    "\n",
    "No toco $G_1$\n",
    "\n",
    "$S_2=\\{+,+,?,-\\}$, $G_2=\\{?,?,?,?\\}$\n",
    "\n",
    "3. Ejemplo 3: {+,-,+,+} = positivo\n",
    "\n",
    "No toco $G_3$\n",
    "\n",
    "$S_3=\\{+,?,?,?\\}$, $G_3=\\{?,?,?,?\\}$\n",
    "\n",
    "4. Ejemplo 4: {-,+,+,-}= negativo\n",
    "\n",
    "No toco $S_3$\n",
    "\n",
    "$S_4=\\{+,?,?,?\\}$, $G_4=\\{+,?,?,?\\}$\n",
    "\n",
    "5. Ejemplo 5: {-,-,+,-} = negativo\n",
    "\n",
    "No toco $S_4=$\n",
    "\n",
    "$S_4=\\{+,?,?,?\\}$, $G_4=\\{+,?,?,?\\}$\n",
    "\n",
    "6. Ejemplo 5: {-,-,+,-} = negativo\n",
    "\n",
    "No toco $S_5=$\n",
    "\n",
    "$S_5=\\{+,?,?,?\\}$, $G_5=\\{+,?,?,?\\}$\n",
    "\n",
    "\n",
    "### Segunda tabla \n",
    "\n",
    "Partimos $S_0=\\{\\emptyset,\\emptyset,\\emptyset\\}$ y $G_0=\\{?,?,?\\}$\n",
    "\n",
    "1. Ejemplo 1: {+,+,+,-} = positivo\n",
    "\n",
    "No toco $G_0$\n",
    "\n",
    "$S_1=\\{+,+,+,-\\}$, $G_1=\\{?,?,?,?\\}$\n",
    "\n",
    "2. Ejemplo 2: {+,+,-,-} = positivo\n",
    "\n",
    "No toco $G_1$\n",
    "\n",
    "$S_2={+,+,?,-}$ $G_2={?,?,?,?}$\n",
    "\n",
    "3. Ejemplo 3: {-,-,+,+} = positivo\n",
    "\n",
    "No toco $G_2$\n",
    "\n",
    "$S_2={?,?,?,?}$ $G_2={?,?,?,?}$\n",
    "\n",
    "4. Ejemplo 4: {+,-,-,-} = negativo\n",
    "\n",
    "No toco $S_3$\n",
    "\n",
    "$G_3$ es falsa pero no puedo especificarla sin hacerla más general que $S_3$ entonces $S_4=\\{\\emptyset,\\emptyset,\\emptyset,\\emptyset\\}=G_4$"
   ]
  },
  {
   "cell_type": "markdown",
   "metadata": {},
   "source": [
    "### g)  Para ejemplificar aún más el algoritmo, encuentre el concepto que define un objeto en este dataset \n",
    "\n",
    "    +-------+-------+----------+-------------+\n",
    "    | Size  | Color | Shape    | Class/Label |\n",
    "    +=======+=======+==========+=============+\n",
    "    | big   | red   | circle   | No          |\n",
    "    | small | red   | triangle | No          |\n",
    "    | small | red   | circle   | Yes         |\n",
    "    | big   | blue  | circle   | No          |\n",
    "    | small | blue  | circle   | Yes         |\n",
    "    +-------+-------+----------+-------------+\n"
   ]
  },
  {
   "cell_type": "raw",
   "metadata": {},
   "source": [
    "paso inicial:               <vacio, vacio, vacio> |   < ? , ? , ? >\n",
    "\n",
    "(big,red,circle)    -No     <vacio, vacio, vacio> |   < small , ? , ? > , < ? , blue , ? > , < ? , ? , triangle >\n",
    "\n",
    "(small,red,triangle)-No     <vacio, vacio, vacio> |   < small , blue , ? > , < small , ? , circle > , < ? , blue , ? > , < big , ? , triangle > , < ? , blue , triangle >\n",
    "\n",
    "(small,red,circle)-Yes      <small, red  ,circle> |   < small , ? , circle >\n",
    "\n",
    "(big,blue,circle)-No        <small, red  ,circle> |   < small , ? , circle >\n",
    "\n",
    "(small,blue,circle)-Yes     <small, ? ,circle>    |   < small , ? , circle >"
   ]
  }
 ],
 "metadata": {
  "kernelspec": {
   "display_name": "Python 3 (ipykernel)",
   "language": "python",
   "name": "python3"
  },
  "language_info": {
   "codemirror_mode": {
    "name": "ipython",
    "version": 3
   },
   "file_extension": ".py",
   "mimetype": "text/x-python",
   "name": "python",
   "nbconvert_exporter": "python",
   "pygments_lexer": "ipython3",
   "version": "3.8.8"
  }
 },
 "nbformat": 4,
 "nbformat_minor": 4
}
